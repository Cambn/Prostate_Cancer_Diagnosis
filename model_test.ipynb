{
 "cells": [
  {
   "cell_type": "code",
   "execution_count": 5,
   "id": "ef3add3c-9565-489d-bc5b-c3b062a60caa",
   "metadata": {},
   "outputs": [],
   "source": [
    "import config\n",
    "from data_loader import *\n",
    "import warnings\n",
    "warnings.simplefilter(\"ignore\", UserWarning)\n",
    "import torch\n",
    "# import torch.nn as nn\n",
    "from torch.utils.data import DataLoader\n",
    "import time\n",
    "from prostate_seg import U_net\n",
    "from torchvision import transforms\n",
    "from sklearn.model_selection import train_test_split\n",
    "import matplotlib.pyplot as plt\n",
    "import cv2\n",
    "import pydicom\n",
    "from pydicom.tag import Tag"
   ]
  },
  {
   "cell_type": "code",
   "execution_count": 8,
   "id": "ee3ee5ad-4d54-4b7a-b7b2-6d870fef332d",
   "metadata": {},
   "outputs": [],
   "source": [
    "d = config.BASE_OUTPUT\n",
    "model = 'unet_tgs_salt.pth'"
   ]
  },
  {
   "cell_type": "code",
   "execution_count": 4,
   "id": "2936c3d3-5897-4ff4-a967-a2af7d73172e",
   "metadata": {},
   "outputs": [
    {
     "data": {
      "text/plain": [
       "U_net(\n",
       "  (encoder): Encoder(\n",
       "    (encBlocks): ModuleList(\n",
       "      (0): Block(\n",
       "        (conv1): Conv2d(1, 16, kernel_size=(3, 3), stride=(1, 1), padding=(1, 1))\n",
       "        (conv2): Conv2d(16, 16, kernel_size=(3, 3), stride=(1, 1), padding=(1, 1))\n",
       "        (batchnorm): BatchNorm2d(16, eps=1e-05, momentum=0.1, affine=True, track_running_stats=True)\n",
       "        (relu): ReLU()\n",
       "      )\n",
       "      (1): Block(\n",
       "        (conv1): Conv2d(16, 32, kernel_size=(3, 3), stride=(1, 1), padding=(1, 1))\n",
       "        (conv2): Conv2d(32, 32, kernel_size=(3, 3), stride=(1, 1), padding=(1, 1))\n",
       "        (batchnorm): BatchNorm2d(32, eps=1e-05, momentum=0.1, affine=True, track_running_stats=True)\n",
       "        (relu): ReLU()\n",
       "      )\n",
       "      (2): Block(\n",
       "        (conv1): Conv2d(32, 64, kernel_size=(3, 3), stride=(1, 1), padding=(1, 1))\n",
       "        (conv2): Conv2d(64, 64, kernel_size=(3, 3), stride=(1, 1), padding=(1, 1))\n",
       "        (batchnorm): BatchNorm2d(64, eps=1e-05, momentum=0.1, affine=True, track_running_stats=True)\n",
       "        (relu): ReLU()\n",
       "      )\n",
       "    )\n",
       "    (pool): MaxPool2d(kernel_size=2, stride=2, padding=0, dilation=1, ceil_mode=False)\n",
       "  )\n",
       "  (decoder): Decoder(\n",
       "    (upconvs): ModuleList(\n",
       "      (0): ConvTranspose2d(64, 32, kernel_size=(2, 2), stride=(2, 2))\n",
       "      (1): ConvTranspose2d(32, 16, kernel_size=(2, 2), stride=(2, 2))\n",
       "    )\n",
       "    (dec_blocks): ModuleList(\n",
       "      (0): Block(\n",
       "        (conv1): Conv2d(64, 32, kernel_size=(3, 3), stride=(1, 1), padding=(1, 1))\n",
       "        (conv2): Conv2d(32, 32, kernel_size=(3, 3), stride=(1, 1), padding=(1, 1))\n",
       "        (batchnorm): BatchNorm2d(32, eps=1e-05, momentum=0.1, affine=True, track_running_stats=True)\n",
       "        (relu): ReLU()\n",
       "      )\n",
       "      (1): Block(\n",
       "        (conv1): Conv2d(32, 16, kernel_size=(3, 3), stride=(1, 1), padding=(1, 1))\n",
       "        (conv2): Conv2d(16, 16, kernel_size=(3, 3), stride=(1, 1), padding=(1, 1))\n",
       "        (batchnorm): BatchNorm2d(16, eps=1e-05, momentum=0.1, affine=True, track_running_stats=True)\n",
       "        (relu): ReLU()\n",
       "      )\n",
       "    )\n",
       "  )\n",
       "  (head): Conv2d(16, 3, kernel_size=(1, 1), stride=(1, 1))\n",
       ")"
      ]
     },
     "execution_count": 4,
     "metadata": {},
     "output_type": "execute_result"
    }
   ],
   "source": [
    "unet = torch.load(d+model)\n",
    "unet.eval()"
   ]
  },
  {
   "cell_type": "code",
   "execution_count": 6,
   "id": "a8ebfdc9-a687-4181-bf90-7786579f1845",
   "metadata": {},
   "outputs": [],
   "source": [
    "loader = load_path()\n",
    "\n",
    "loader.get_path(config.DATASET_MAIN_BRUNCH)\n",
    "(im_path, mask_path) = loader.load_path()"
   ]
  },
  {
   "cell_type": "code",
   "execution_count": 9,
   "id": "17d56c51-c01c-437e-90de-8437bb6ef8ce",
   "metadata": {},
   "outputs": [],
   "source": [
    "imagePaths = sorted(list(im_path))\n",
    "maskPaths = sorted(list(mask_path))\n",
    "\n",
    "data = FetchImage(imagePaths,maskPaths,transforms = True)\n",
    "\n",
    "data_Loader = DataLoader(data,shuffle = True, batch_size = config.BATCH_SIZE,\n",
    "                              pin_memory = config.PIN_MEMORY)"
   ]
  },
  {
   "cell_type": "code",
   "execution_count": 14,
   "id": "1d5c57e8-54b3-4cdc-97cc-2cc86bb4f3e0",
   "metadata": {},
   "outputs": [],
   "source": [
    "img_1 = pydicom.dcmread(imagePaths[0]).pixel_array\n",
    "img_uint8 = cv2.convertScaleAbs(img_1, alpha=(255.0 / 65535.0))"
   ]
  },
  {
   "cell_type": "code",
   "execution_count": 22,
   "id": "48569078-e097-436d-ad9b-7881cc98b991",
   "metadata": {},
   "outputs": [],
   "source": [
    "t = transforms.Compose([transforms.ToPILImage(),\n",
    "                          transforms.ToTensor()])\n",
    "\n",
    "_input = t(img_uint8)\n",
    "__input = torch.squeeze(_input,dim = 1)\n",
    "__input = __input.to('cpu')"
   ]
  },
  {
   "cell_type": "code",
   "execution_count": 28,
   "id": "69be2bf0-78fd-47b0-8e6b-dff08a767592",
   "metadata": {},
   "outputs": [
    {
     "data": {
      "text/plain": [
       "torch.Size([1, 64, 64])"
      ]
     },
     "execution_count": 28,
     "metadata": {},
     "output_type": "execute_result"
    }
   ],
   "source": [
    "__ = torch.randn(1,1,64,64)\n",
    "torch.squeeze(__,dim=1).shape"
   ]
  }
 ],
 "metadata": {
  "kernelspec": {
   "display_name": "torch",
   "language": "python",
   "name": "torch"
  },
  "language_info": {
   "codemirror_mode": {
    "name": "ipython",
    "version": 3
   },
   "file_extension": ".py",
   "mimetype": "text/x-python",
   "name": "python",
   "nbconvert_exporter": "python",
   "pygments_lexer": "ipython3",
   "version": "3.9.7"
  }
 },
 "nbformat": 4,
 "nbformat_minor": 5
}
