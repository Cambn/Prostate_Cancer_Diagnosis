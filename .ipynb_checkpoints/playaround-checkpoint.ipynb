{
 "cells": [
  {
   "cell_type": "code",
   "execution_count": 54,
   "id": "7614831f-c43c-4ebf-b9a6-00fcc2217b80",
   "metadata": {},
   "outputs": [],
   "source": [
    "import config\n",
    "from data_loader import *\n",
    "import warnings\n",
    "warnings.simplefilter(\"ignore\", UserWarning)\n",
    "import torch\n",
    "# import torch.nn as nn\n",
    "from torch.utils.data import DataLoader\n",
    "from torch.optim import Adam\n",
    "from torch.nn import MultiLabelMarginLoss\n",
    "import time\n",
    "from tqdm import tqdm\n",
    "from torchvision import transforms\n",
    "from sklearn.model_selection import train_test_split\n",
    "import matplotlib.pyplot as plt\n",
    "import cv2\n",
    "import pydicom\n",
    "from pydicom.tag import Tag"
   ]
  },
  {
   "cell_type": "code",
   "execution_count": 5,
   "id": "84655313-0c87-4bc3-84ac-bf5bafc8f72c",
   "metadata": {},
   "outputs": [],
   "source": [
    "loader = load_path()\n",
    "\n",
    "loader.get_path(config.DATASET_MAIN_BRUNCH)\n",
    "(im_path, mask_path) = loader.load_path()"
   ]
  },
  {
   "cell_type": "code",
   "execution_count": 7,
   "id": "52141034-b9d3-4230-9ec6-b3f73081cd46",
   "metadata": {},
   "outputs": [],
   "source": [
    "imagePaths = sorted(list(im_path))\n",
    "maskPaths = sorted(list(mask_path))\n",
    "split = train_test_split(imagePaths,maskPaths,test_size=config.TEST_SPLIT,random_state = config.RAND_STATE)\n",
    "train_paths_Images,test_paths_Images,train_paths_Masks,test_paths_Masks = split[0],split[1],split[2],split[3]\n",
    "transforms = transforms.Compose([transforms.ToPILImage(),\n",
    "                                     transforms.ToTensor()])"
   ]
  },
  {
   "cell_type": "code",
   "execution_count": 8,
   "id": "4e3682b2-8708-4905-babd-15f7de3db266",
   "metadata": {},
   "outputs": [],
   "source": [
    "_train = FetchImage(train_paths_Images,train_paths_Masks,transforms)\n",
    "_test = FetchImage(test_paths_Images, test_paths_Masks, transforms)\n",
    "train_Loader = DataLoader(_train,shuffle = True, batch_size = config.BATCH_SIZE,\n",
    "                              pin_memory = config.PIN_MEMORY)\n",
    "test_Loader = DataLoader(_test, shuffle=True, batch_size=config.BATCH_SIZE,\n",
    "                              pin_memory=config.PIN_MEMORY)"
   ]
  },
  {
   "cell_type": "code",
   "execution_count": 78,
   "id": "debc265f-51ab-405c-844e-c498a3549af4",
   "metadata": {},
   "outputs": [
    {
     "name": "stdout",
     "output_type": "stream",
     "text": [
      "(0010, 0010) Patient's Name                      PN: 'ProstateX-0076'\n",
      "(0028, 0002) Samples per Pixel                   US: 1\n",
      "(0028, 0103) Pixel Representation                US: 0\n",
      "(0028, 0010) Rows                                US: 384\n",
      "(0028, 0011) Columns                             US: 384\n",
      "(0028, 0101) Bits Stored                         US: 12\n",
      "(0028, 0107) Largest Image Pixel Value           US: 832\n"
     ]
    },
    {
     "data": {
      "image/png": "[encoded data removed]",
      "text/plain": [
       "<Figure size 360x288 with 1 Axes>"
      ]
     },
     "metadata": {
      "needs_background": "light"
     },
     "output_type": "display_data"
    },
    {
     "name": "stdout",
     "output_type": "stream",
     "text": [
      "(0010, 0010) Patient's Name                      PN: 'ProstateX-0154'\n",
      "(0028, 0002) Samples per Pixel                   US: 1\n",
      "(0028, 0103) Pixel Representation                US: 0\n",
      "(0028, 0010) Rows                                US: 384\n",
      "(0028, 0011) Columns                             US: 384\n",
      "(0028, 0101) Bits Stored                         US: 12\n",
      "(0028, 0107) Largest Image Pixel Value           US: 869\n"
     ]
    },
    {
     "data": {
      "image/png": "[encoded data removed]",
      "text/plain": [
       "<Figure size 360x288 with 1 Axes>"
      ]
     },
     "metadata": {
      "needs_background": "light"
     },
     "output_type": "display_data"
    },
    {
     "name": "stdout",
     "output_type": "stream",
     "text": [
      "(0010, 0010) Patient's Name                      PN: 'ProstateX-0171'\n",
      "(0028, 0002) Samples per Pixel                   US: 1\n",
      "(0028, 0103) Pixel Representation                US: 0\n",
      "(0028, 0010) Rows                                US: 384\n",
      "(0028, 0011) Columns                             US: 384\n",
      "(0028, 0101) Bits Stored                         US: 12\n",
      "(0028, 0107) Largest Image Pixel Value           US: 1250\n"
     ]
    },
    {
     "data": {
      "image/png": "[encoded data removed]",
      "text/plain": [
       "<Figure size 360x288 with 1 Axes>"
      ]
     },
     "metadata": {
      "needs_background": "light"
     },
     "output_type": "display_data"
    },
    {
     "name": "stdout",
     "output_type": "stream",
     "text": [
      "(0010, 0010) Patient's Name                      PN: 'ProstateX-0181'\n",
      "(0028, 0002) Samples per Pixel                   US: 1\n",
      "(0028, 0103) Pixel Representation                US: 0\n",
      "(0028, 0010) Rows                                US: 384\n",
      "(0028, 0011) Columns                             US: 384\n",
      "(0028, 0101) Bits Stored                         US: 12\n",
      "(0028, 0107) Largest Image Pixel Value           US: 712\n"
     ]
    },
    {
     "data": {
      "image/png": "[encoded data removed]",
      "text/plain": [
       "<Figure size 360x288 with 1 Axes>"
      ]
     },
     "metadata": {
      "needs_background": "light"
     },
     "output_type": "display_data"
    },
    {
     "name": "stdout",
     "output_type": "stream",
     "text": [
      "(0010, 0010) Patient's Name                      PN: 'ProstateX-0013'\n",
      "(0028, 0002) Samples per Pixel                   US: 1\n",
      "(0028, 0103) Pixel Representation                US: 0\n",
      "(0028, 0010) Rows                                US: 384\n",
      "(0028, 0011) Columns                             US: 384\n",
      "(0028, 0101) Bits Stored                         US: 12\n",
      "(0028, 0107) Largest Image Pixel Value           US: 951\n"
     ]
    },
    {
     "data": {
      "image/png": "[encoded data removed]",
      "text/plain": [
       "<Figure size 360x288 with 1 Axes>"
      ]
     },
     "metadata": {
      "needs_background": "light"
     },
     "output_type": "display_data"
    },
    {
     "name": "stdout",
     "output_type": "stream",
     "text": [
      "(0010, 0010) Patient's Name                      PN: 'ProstateX-0182'\n",
      "(0028, 0002) Samples per Pixel                   US: 1\n",
      "(0028, 0103) Pixel Representation                US: 0\n",
      "(0028, 0010) Rows                                US: 384\n",
      "(0028, 0011) Columns                             US: 384\n",
      "(0028, 0101) Bits Stored                         US: 12\n",
      "(0028, 0107) Largest Image Pixel Value           US: 832\n"
     ]
    },
    {
     "data": {
      "image/png": "[encoded data removed]",
      "text/plain": [
       "<Figure size 360x288 with 1 Axes>"
      ]
     },
     "metadata": {
      "needs_background": "light"
     },
     "output_type": "display_data"
    },
    {
     "name": "stdout",
     "output_type": "stream",
     "text": [
      "(0010, 0010) Patient's Name                      PN: 'ProstateX-0026'\n",
      "(0028, 0002) Samples per Pixel                   US: 1\n",
      "(0028, 0103) Pixel Representation                US: 0\n",
      "(0028, 0010) Rows                                US: 384\n",
      "(0028, 0011) Columns                             US: 384\n",
      "(0028, 0101) Bits Stored                         US: 12\n",
      "(0028, 0107) Largest Image Pixel Value           US: 887\n"
     ]
    },
    {
     "data": {
      "image/png": "[encoded data removed]",
      "text/plain": [
       "<Figure size 360x288 with 1 Axes>"
      ]
     },
     "metadata": {
      "needs_background": "light"
     },
     "output_type": "display_data"
    },
    {
     "name": "stdout",
     "output_type": "stream",
     "text": [
      "(0010, 0010) Patient's Name                      PN: 'ProstateX-0026'\n",
      "(0028, 0002) Samples per Pixel                   US: 1\n",
      "(0028, 0103) Pixel Representation                US: 0\n",
      "(0028, 0010) Rows                                US: 384\n",
      "(0028, 0011) Columns                             US: 384\n",
      "(0028, 0101) Bits Stored                         US: 12\n",
      "(0028, 0107) Largest Image Pixel Value           US: 905\n"
     ]
    },
    {
     "data": {
      "image/png": "[encoded data removed]",
      "text/plain": [
       "<Figure size 360x288 with 1 Axes>"
      ]
     },
     "metadata": {
      "needs_background": "light"
     },
     "output_type": "display_data"
    },
    {
     "name": "stdout",
     "output_type": "stream",
     "text": [
      "(0010, 0010) Patient's Name                      PN: 'ProstateX-0086'\n",
      "(0028, 0002) Samples per Pixel                   US: 1\n",
      "(0028, 0103) Pixel Representation                US: 0\n",
      "(0028, 0010) Rows                                US: 384\n",
      "(0028, 0011) Columns                             US: 384\n",
      "(0028, 0101) Bits Stored                         US: 12\n",
      "(0028, 0107) Largest Image Pixel Value           US: 662\n"
     ]
    },
    {
     "data": {
      "image/png": "[encoded data removed]",
      "text/plain": [
       "<Figure size 360x288 with 1 Axes>"
      ]
     },
     "metadata": {
      "needs_background": "light"
     },
     "output_type": "display_data"
    },
    {
     "name": "stdout",
     "output_type": "stream",
     "text": [
      "(0010, 0010) Patient's Name                      PN: 'ProstateX-0109'\n",
      "(0028, 0002) Samples per Pixel                   US: 1\n",
      "(0028, 0103) Pixel Representation                US: 0\n",
      "(0028, 0010) Rows                                US: 384\n",
      "(0028, 0011) Columns                             US: 384\n",
      "(0028, 0101) Bits Stored                         US: 12\n",
      "(0028, 0107) Largest Image Pixel Value           US: 849\n"
     ]
    },
    {
     "data": {
      "image/png": "[encoded data removed]",
      "text/plain": [
       "<Figure size 360x288 with 1 Axes>"
      ]
     },
     "metadata": {
      "needs_background": "light"
     },
     "output_type": "display_data"
    }
   ],
   "source": [
    "%matplotlib inline\n",
    "\n",
    "for i in train_paths_Images[:10]:\n",
    "    _1 = Tag('00100010') ## id / name\n",
    "    _2 = Tag('00280002') ## samples per pixel. 1: monochrome\n",
    "    _3 = Tag('00280103') ## pixel represenation. 0: unsinged. 1: signed\n",
    "    _r = Tag('00280010') ## rows\n",
    "    _c = Tag('00280011') ## cols \n",
    "    _b = Tag('00280101') ## bits stored\n",
    "    _l = Tag('00280107') ## largest pixel val\n",
    "    print(pydicom.dcmread(i).get(_1))\n",
    "    print(pydicom.dcmread(i).get(_2))\n",
    "    print(pydicom.dcmread(i).get(_3))\n",
    "    print(pydicom.dcmread(i).get(_r))\n",
    "    print(pydicom.dcmread(i).get(_c))\n",
    "    print(pydicom.dcmread(i).get(_b))\n",
    "    print(pydicom.dcmread(i).get(_l))\n",
    "    plt.figure(figsize=(5, 4))\n",
    "    arr_img = pydicom.dcmread(i).pixel_array\n",
    "    arr_img_f = arr_img.flatten()\n",
    "    #arr_mask = pydicom.dcmread(j).pixel_array\n",
    "    plt.hist(arr_img_f, color='c')\n",
    "    plt.show()\n"
   ]
  },
  {
   "cell_type": "code",
   "execution_count": 77,
   "id": "e8f41c73-10d2-492b-8e7a-bdc5d8bf9ee9",
   "metadata": {},
   "outputs": [
    {
     "name": "stdout",
     "output_type": "stream",
     "text": [
      "**** DATASET/Prostatex-0076/mask/IM-0314-0006.png ****\n",
      "(384, 384)\n",
      "[  0   2 255]\n",
      "\n",
      "**** DATASET/Prostatex-0154/mask/IM-0628-0003.png ****\n",
      "(384, 384)\n",
      "[  0   2 255]\n",
      "\n",
      "**** DATASET/Prostatex-0171/mask/IM-0699-0007.png ****\n",
      "(384, 384)\n",
      "[  0   1   2 255]\n",
      "\n",
      "**** DATASET/Prostatex-0181/mask/IM-0741-0017.png ****\n",
      "(384, 384)\n",
      "[  0   1   2 255]\n",
      "\n",
      "**** DATASET/Prostatex-0013/mask/IM-0057-0016.png ****\n",
      "(384, 384)\n",
      "[  0   1   2 255]\n",
      "\n",
      "**** DATASET/Prostatex-0182/mask/IM-0745-0012.png ****\n",
      "(384, 384)\n",
      "[  0   1   2 255]\n",
      "\n",
      "**** DATASET/Prostatex-0026/mask/IM-0110-0004.png ****\n",
      "(384, 384)\n",
      "[0]\n",
      "\n",
      "**** DATASET/Prostatex-0026/mask/IM-0110-0005.png ****\n",
      "(384, 384)\n",
      "[0]\n",
      "\n",
      "**** DATASET/Prostatex-0086/mask/IM-0353-0012.png ****\n",
      "(384, 384)\n",
      "[  0   1   2 255]\n",
      "\n",
      "**** DATASET/Prostatex-0109/mask/IM-0446-0005.png ****\n",
      "(384, 384)\n",
      "[0]\n",
      "\n"
     ]
    }
   ],
   "source": [
    "for j in train_paths_Masks[:10]:\n",
    "    print(r'**** {} ****'.format(j))\n",
    "    arr_mask = cv2.imread(j,0)\n",
    "    print(arr_mask.shape)\n",
    "    arr_mask_f = arr_mask.flatten()\n",
    "    print(np.unique(arr_mask_f))\n",
    "    print()\n",
    "    # plt.hist(arr_mask_f, color='c')\n",
    "    # plt.show()"
   ]
  },
  {
   "cell_type": "code",
   "execution_count": 89,
   "id": "59b2037f-1f4a-4019-af6f-2e647c8cd111",
   "metadata": {},
   "outputs": [],
   "source": [
    "\n",
    "sample_per_pixel = []\n",
    "pixel_representation = []\n",
    "rows = []\n",
    "cols = []\n",
    "bits_stored = []\n",
    "largest_pixel_val = []\n",
    "\n",
    "for i in imagePaths:\n",
    "    _1 = Tag('00100010') ## id / name PN\n",
    "    _2 = Tag('00280002') ## samples per pixel. 1: monochrome \n",
    "    _3 = Tag('00280103') ## pixel represenation. 0: unsinged. 1: signed\n",
    "    _r = Tag('00280010') ## rows\n",
    "    _c = Tag('00280011') ## cols \n",
    "    _b = Tag('00280101') ## bits stored\n",
    "    _l = Tag('00280107') ## largest pixel val\n",
    "    \n",
    "    sample_per_pixel.append(pydicom.dcmread(i).get(_2).value)\n",
    "    pixel_representation.append(pydicom.dcmread(i).get(_3).value)\n",
    "    rows.append(pydicom.dcmread(i).get(_r).value)\n",
    "    cols.append(pydicom.dcmread(i).get(_c).value)\n",
    "    bits_stored.append(pydicom.dcmread(i).get(_b).value)\n",
    "    largest_pixel_val.append(pydicom.dcmread(i).get(_l).value)\n"
   ]
  },
  {
   "cell_type": "code",
   "execution_count": 105,
   "id": "bde49244-037b-4bb3-b0b6-dfe5422f3253",
   "metadata": {},
   "outputs": [
    {
     "name": "stdout",
     "output_type": "stream",
     "text": [
      "[1]\n",
      "[0]\n",
      "[320 384 640]\n",
      "Across 4104 of samples, 109 has # of rows = 320, 3968 has # of rows 384, 27 has # of rows 640\n",
      "[320 384 640]\n",
      "Across 4104 of samples, 109 has # of cols = 320, 3968 has # of cols 384, 27 has # of cols 640\n",
      "[12]\n"
     ]
    }
   ],
   "source": [
    "print(np.unique(sample_per_pixel))\n",
    "print(np.unique(pixel_representation))\n",
    "print(np.unique(rows))\n",
    "print(r'Across {} of samples, {} has # of rows = 320, {} has # of rows 384, {} has # of rows 640'.format(len(rows),\n",
    "                                                                                                         rows.count(320),\n",
    "                                                                                                         rows.count(384),\n",
    "                                                                                                         rows.count(640)))\n",
    "print(np.unique(cols))\n",
    "print(r'Across {} of samples, {} has # of cols = 320, {} has # of cols 384, {} has # of cols 640'.format(len(cols),\n",
    "                                                                                                         cols.count(320),\n",
    "                                                                                                         cols.count(384),\n",
    "                                                                                                         cols.count(640)))     \n",
    "print(np.unique(bits_stored))\n"
   ]
  },
  {
   "cell_type": "code",
   "execution_count": 106,
   "id": "3abc1119-847a-4794-aed9-9d6e33f08ff3",
   "metadata": {},
   "outputs": [],
   "source": [
    "r = []\n",
    "c = []\n",
    "l = []\n",
    "val = []\n",
    "for j in train_paths_Masks:\n",
    "    arr_mask = cv2.imread(j,0)\n",
    "    arr_mask_f = arr_mask.flatten()\n",
    "    _val = np.unique(arr_mask_f)\n",
    "    \n",
    "    r.append(arr_mask.shape[0])\n",
    "    c.append(arr_mask.shape[1])\n",
    "    l.append(len(_val))\n",
    "    val.append(_val)"
   ]
  },
  {
   "cell_type": "code",
   "execution_count": 136,
   "id": "ecb4abde-8193-4451-bd10-7f4f44257f7c",
   "metadata": {},
   "outputs": [
    {
     "name": "stdout",
     "output_type": "stream",
     "text": [
      "[320 384 640]\n",
      "Across 2749 of samples, 79 has # of rows = 320, 2650 has # of rows 384, 20 has # of rows 640\n",
      "[320 384 640]\n",
      "Across 2749 of samples, 79 has # of cols = 320, 2650 has # of cols 384, 20 has # of cols 640\n",
      "[1 3 4 5]\n",
      "Across 2749 of samples, 821 are completely black, 752 has 1 area, 1157 has two areas, 19 has three areas(???) \\\n",
      "    Among those that only contains 1 areas, 333 contains pheripheral zone(label 1), 419 contains transitional zone(label 2)\n"
     ]
    }
   ],
   "source": [
    "print(np.unique(r))\n",
    "print(r'Across {} of samples, {} has # of rows = 320, {} has # of rows 384, {} has # of rows 640'.format(len(r),\n",
    "                                                                                                         r.count(320),\n",
    "                                                                                                         r.count(384),\n",
    "                                                                                                         r.count(640)))\n",
    "print(np.unique(c))\n",
    "print(r'Across {} of samples, {} has # of cols = 320, {} has # of cols 384, {} has # of cols 640'.format(len(c),\n",
    "                                                                                                         c.count(320),\n",
    "                                                                                                         c.count(384),\n",
    "                                                                                                         c.count(640)))\n",
    "print(np.unique(l))\n",
    "pheripheral = len([e for i,e in enumerate(val) if len(e) == 3 and 1 in e])\n",
    "transitional = len([e for i,e in enumerate(val) if len(e) == 3 and 2 in e])\n",
    "print(r'Across {} of samples, {} are completely black, {} has 1 area, {} has two areas, {} has three areas(???) \\\n",
    "    Among those that only contains 1 areas, {} contains pheripheral zone(label 1), {} contains transitional zone(label 2)'\\\n",
    "      .format(len(l),l.count(1),l.count(3),l.count(4),\n",
    "       l.count(5),pheripheral,transitional))"
   ]
  },
  {
   "cell_type": "markdown",
   "id": "0e33130d-c1fe-4c73-970b-e9319b2f2f02",
   "metadata": {},
   "source": [
    "What is this??"
   ]
  },
  {
   "cell_type": "code",
   "execution_count": 117,
   "id": "afe8be49-5fa8-420a-980e-f24dbac0a7f4",
   "metadata": {},
   "outputs": [],
   "source": [
    "__d = [i for i, e in enumerate(l) if e == 5]"
   ]
  },
  {
   "cell_type": "code",
   "execution_count": 120,
   "id": "aff65593-2ad3-4cf8-80a3-8422e4fa591a",
   "metadata": {},
   "outputs": [
    {
     "data": {
      "text/plain": [
       "[array([  0,   1,   2,   3, 255], dtype=uint8),\n",
       " array([  0,   1,   2,   3, 255], dtype=uint8),\n",
       " array([  0,   1,   2,   3, 255], dtype=uint8),\n",
       " array([  0,   1,   2,   3, 255], dtype=uint8),\n",
       " array([  0,   1,   2,   3, 255], dtype=uint8),\n",
       " array([  0,   1,   2,   3, 255], dtype=uint8),\n",
       " array([  0,   1,   2,   3, 255], dtype=uint8),\n",
       " array([  0,   1,   2,   3, 255], dtype=uint8),\n",
       " array([  0,   1,   2,   3, 255], dtype=uint8),\n",
       " array([  0,   1,   2,   3, 255], dtype=uint8),\n",
       " array([  0,   1,   2,   3, 255], dtype=uint8),\n",
       " array([  0,   1,   2,   3, 255], dtype=uint8),\n",
       " array([  0,   1,   2,   3, 255], dtype=uint8),\n",
       " array([  0,   1,   2,   3, 255], dtype=uint8),\n",
       " array([  0,   1,   2,   3, 255], dtype=uint8),\n",
       " array([  0,   1,   2,   3, 255], dtype=uint8),\n",
       " array([  0,   1,   2,   3, 255], dtype=uint8),\n",
       " array([  0,   1,   2,   3, 255], dtype=uint8),\n",
       " array([  0,   1,   2,   3, 255], dtype=uint8)]"
      ]
     },
     "execution_count": 120,
     "metadata": {},
     "output_type": "execute_result"
    }
   ],
   "source": [
    "[val[i] for i in __d]"
   ]
  }
 ],
 "metadata": {
  "kernelspec": {
   "display_name": "torch",
   "language": "python",
   "name": "torch"
  },
  "language_info": {
   "codemirror_mode": {
    "name": "ipython",
    "version": 3
   },
   "file_extension": ".py",
   "mimetype": "text/x-python",
   "name": "python",
   "nbconvert_exporter": "python",
   "pygments_lexer": "ipython3",
   "version": "3.9.7"
  }
 },
 "nbformat": 4,
 "nbformat_minor": 5
}
